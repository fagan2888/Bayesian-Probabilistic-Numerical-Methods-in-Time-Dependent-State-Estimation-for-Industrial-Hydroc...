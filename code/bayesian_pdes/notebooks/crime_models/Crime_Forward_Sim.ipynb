{
 "cells": [
  {
   "cell_type": "code",
   "execution_count": 16,
   "metadata": {
    "collapsed": false
   },
   "outputs": [],
   "source": [
    "import logging\n",
    "logger = logging.getLogger()\n",
    "for handler in logger.handlers:\n",
    "    handler.level = logging.WARNING\n",
    "handler = logging.FileHandler(filename='crime.log', mode='w')\n",
    "handler.level = logging.DEBUG\n",
    "logger.level = logging.DEBUG\n",
    "logger.addHandler(handler)"
   ]
  },
  {
   "cell_type": "markdown",
   "metadata": {},
   "source": [
    "# TODO\n",
    "* Jitter on initial field?\n",
    "* 1D Model?\n",
    "* Positivity"
   ]
  },
  {
   "cell_type": "code",
   "execution_count": 17,
   "metadata": {
    "collapsed": false
   },
   "outputs": [],
   "source": [
    "%matplotlib inline\n",
    "from autograd import numpy as np\n",
    "import numpy as true_np\n",
    "np.mgrid = true_np.mgrid\n",
    "import autograd\n",
    "import bayesian_pdes as bpdes\n",
    "import sympy as sp\n",
    "import matplotlib.pyplot as plt\n",
    "import sympy_rbf as rbf"
   ]
  },
  {
   "cell_type": "code",
   "execution_count": 18,
   "metadata": {
    "collapsed": true
   },
   "outputs": [],
   "source": [
    "from tempfile import NamedTemporaryFile\n",
    "\n",
    "VIDEO_TAG = \"\"\"<video controls>\n",
    " <source src=\"data:video/x-m4v;base64,{0}\" type=\"video/mp4\">\n",
    " Your browser does not support the video tag.\n",
    "</video>\"\"\"\n",
    "\n",
    "def anim_to_html(anim):\n",
    "    if not hasattr(anim, '_encoded_video'):\n",
    "        with NamedTemporaryFile(suffix='.mp4') as f:\n",
    "            anim.save(f.name, fps=20, extra_args=['-vcodec', 'libx264'])\n",
    "            video = open(f.name, \"rb\").read()\n",
    "        anim._encoded_video = video.encode(\"base64\")\n",
    "    \n",
    "    return VIDEO_TAG.format(anim._encoded_video)\n",
    "from matplotlib import animation\n",
    "animation.Animation._repr_html_ = anim_to_html"
   ]
  },
  {
   "cell_type": "code",
   "execution_count": 19,
   "metadata": {
    "collapsed": false
   },
   "outputs": [],
   "source": [
    "l = 4 # grid spacing\n",
    "l_eff = float(l) # effective grid spacing (fudge factor)\n",
    "size = 64\n",
    "dt = 0.01 # time spacing\n",
    "ndim = 2\n",
    "z = 4.\n",
    "\n",
    "omega = 1./15 # attractiveness decay rate\n",
    "eta = 0.03 # neighbourhood effect\n",
    "theta = 0.56 # increase in attractiveness following a burglary\n",
    "Gamma = 0.019 # burglar generation rate\n",
    "A_0 = 1./30 # initial attractiveness\n",
    "\n",
    "gamma = Gamma / l_eff**ndim\n",
    "epsilon = theta*dt\n",
    "D = l_eff**ndim / dt\n",
    "#D = 100\n",
    "b_bar = epsilon*D*gamma / omega"
   ]
  },
  {
   "cell_type": "code",
   "execution_count": 20,
   "metadata": {
    "collapsed": false
   },
   "outputs": [],
   "source": [
    "x1, x2, y1, y2 = sp.symbols('x_1, x_2, y_1, y_2')\n",
    "t, tbar = sp.symbols('t,tbar')\n",
    "\n",
    "sA, sA_x1, sA_x2, sA_xx = sp.symbols('A, A_x1, A_x2, A_xx')\n",
    "sA_bar, sA_x1_bar, sA_x2_bar, sA_xx_bar = sp.symbols('A_bar, A_x1_bar, A_x2_bar, A_xx_bar')\n",
    "srho, srho_bar = sp.symbols('rho, rho_bar')\n",
    "\n",
    "def laplacian(k, wrt):\n",
    "    return sum([k.diff(a,a) for a in wrt])\n",
    "\n",
    "def op_A(k):\n",
    "    return k.diff(t) - (eta*D / z * laplacian(k, [x1, x2]) - omega*(k - A_0) + epsilon*D*srho*k)\n",
    "def op_A_bar(k):\n",
    "    return k.diff(tbar) - (eta*D / z *laplacian(k, [y1, y2]) - omega*(k - A_0) + epsilon*D*srho_bar*k)\n",
    "\n",
    "#also want first and second derivs wrt x, y\n",
    "def A_x1(k): return k.diff(x1)\n",
    "def A_x2(k): return k.diff(x2)\n",
    "def A_xx(k): return k.diff(x1, x1) + k.diff(x2, x2)\n",
    "def A_y1(k): return k.diff(y1)\n",
    "def A_y2(k): return k.diff(y2)\n",
    "def A_yy(k): return k.diff(y1, y1) + k.diff(y2, y2)\n",
    "\n",
    "def op_rho(k):\n",
    "    return k.diff(t) - (D/z*(laplacian(k, [x1, x2]) \\\n",
    "                           - 2*(\\\n",
    "                                1./sA * (k.diff(x1)*sA_x1 + k.diff(x2)*sA_x2) \\\n",
    "                                + k*sA_xx/sA \\\n",
    "                                - k*(sA_x1**2 + sA_x2**2) / (sA)**2\\\n",
    "                               )\\\n",
    "                          ) - k*sA + gamma)\n",
    "\n",
    "def op_rho_bar(k):\n",
    "    return k.diff(tbar) - (D/z*(laplacian(k, [y1, y2]) \\\n",
    "                           - 2*(\\\n",
    "                                1./sA_bar * (k.diff(y1)*sA_x1_bar + k.diff(y2)*sA_x2_bar) \\\n",
    "                                + k*sA_xx_bar / sA_bar \\\n",
    "                                - k*(sA_x1_bar**2 + sA_x2_bar**2) / (sA_bar)**2 \\\n",
    "                               )\\\n",
    "                          ) - k*sA_bar + gamma)\n",
    "\n",
    "ls_x, ls_t = sp.symbols('ls_x, ls_t')\n",
    "k = 0.01*sp.exp(-((x1-y1)**2 + (x2-y2)**2) / (2*ls_x**2))*(sp.exp(-(t-tbar)**2 / (2*ls_t**2)))\n",
    "#periodic_spatial = rbf.PeriodicKern.create([x], [y], ls_x, 1.0)\n",
    "#k_per = periodic_spatial * sp.exp(-(t-tbar)**2 / (2*ls_t**2))\n",
    "\n",
    "kern = k"
   ]
  },
  {
   "cell_type": "code",
   "execution_count": 21,
   "metadata": {
    "collapsed": false
   },
   "outputs": [],
   "source": [
    "op_system_A = bpdes.operator_compilation.compile_sympy(\n",
    "    [op_A, A_x1, A_x2, A_xx], \n",
    "    [op_A_bar, A_y1, A_y2, A_yy], \n",
    "    kern, \n",
    "    [[x1, x2, t, srho], [y1, y2, tbar, srho_bar], [ls_x, ls_t]], \n",
    "    mode='cython',\n",
    "#    sympy_function_kwargs={\n",
    "#        'compile_helpers': [periodic_spatial.get_helper()]\n",
    "#    }\n",
    ")"
   ]
  },
  {
   "cell_type": "code",
   "execution_count": 22,
   "metadata": {
    "collapsed": false
   },
   "outputs": [],
   "source": [
    "op_system_rho = bpdes.operator_compilation.compile_sympy(\n",
    "    [op_rho],\n",
    "    [op_rho_bar],\n",
    "    kern,\n",
    "    [[x1, x2, t, sA, sA_x1, sA_x2, sA_xx], [y1, y2, tbar, sA_bar, sA_x1_bar, sA_x2_bar, sA_xx_bar], [ls_x, ls_t]],\n",
    "    mode='cython',\n",
    "#    sympy_function_kwargs={\n",
    "#        'compile_helpers': [periodic_spatial.get_helper()]\n",
    "#    }\n",
    ")"
   ]
  },
  {
   "cell_type": "code",
   "execution_count": 23,
   "metadata": {
    "collapsed": false
   },
   "outputs": [],
   "source": [
    "fun_args = np.array([1.5*l, 1.5*dt])"
   ]
  },
  {
   "cell_type": "code",
   "execution_count": 24,
   "metadata": {
    "collapsed": false
   },
   "outputs": [],
   "source": [
    "# NOT TOTALLY CONVINCED BY THESE IN BERTOZZI!!!\n",
    "A_t0 = A_0 + b_bar\n",
    "rho_t0 = b_bar / A_t0"
   ]
  },
  {
   "cell_type": "code",
   "execution_count": 25,
   "metadata": {
    "collapsed": false
   },
   "outputs": [],
   "source": [
    "Tend = 10.\n",
    "times = np.arange(0,Tend+dt,dt)\n",
    "design_grid = np.arange(0, size+l, l)\n",
    "design_x, design_y = np.meshgrid(design_grid, design_grid)\n",
    "design_points = np.column_stack([design_x.ravel(), design_y.ravel()])\n",
    "n_pts = len(design_points)\n",
    "ixs = np.arange(design_points.shape[0])\n",
    "A_ixs = np.column_stack([ixs, ixs+len(ixs), ixs+2*len(ixs)])\n",
    "Identity = ()\n",
    "\n",
    "def plot_field(field, levels=5):\n",
    "    to_plot = field.reshape(design_x.shape)\n",
    "    plt.contourf(design_x, design_y, to_plot, levels)"
   ]
  },
  {
   "cell_type": "code",
   "execution_count": 26,
   "metadata": {
    "collapsed": true
   },
   "outputs": [],
   "source": [
    "def reshape_op_mat(mat, design_points, n_ops):\n",
    "    ix = 0\n",
    "    design = []\n",
    "    for i in range(n_ops):\n",
    "        design_op = mat[ix:ix+len(design_points),:]\n",
    "        ix += len(design_points)\n",
    "        design.append(design_op)\n",
    "    return np.column_stack(design)"
   ]
  },
  {
   "cell_type": "code",
   "execution_count": 27,
   "metadata": {
    "collapsed": true
   },
   "outputs": [],
   "source": [
    "samp_ops = [Identity, A_x1, A_x2, A_xx]\n",
    "samp_ops_bar = [Identity, A_y1, A_y2, A_yy]\n",
    "\n",
    "def construct_design(t, predict_A, predict_rho):\n",
    "    design_t = bpdes.parabolic.augment_with_time(design_points, t)\n",
    "    design_A_t = np.column_stack([design_t, predict_rho])\n",
    "    design_rho_t = np.column_stack([design_t, predict_A])\n",
    "\n",
    "    return design_A_t, design_rho_t"
   ]
  },
  {
   "cell_type": "code",
   "execution_count": 28,
   "metadata": {
    "collapsed": false,
    "scrolled": true
   },
   "outputs": [
    {
     "name": "stdout",
     "output_type": "stream",
     "text": [
      "t=0.01 A \\in (0.1331,0.3189), rho\\in (0.7423, 1.0444)\n",
      "t=0.02 A \\in (0.2111,0.4478), rho\\in (0.8139, 1.3992)\n",
      "t=0.03 A \\in (0.2862,0.6069), rho\\in (0.8408, 1.7395)\n",
      "t=0.04 A \\in (0.3616,0.8444), rho\\in (0.8039, 1.8908)\n",
      "t=0.05 A \\in (0.5571,1.1267), rho\\in (0.8314, 2.2374)\n",
      "t=0.06 A \\in (0.8599,1.6377), rho\\in (0.9132, 2.5510)\n",
      "t=0.07 A \\in (1.3130,2.5334), rho\\in (0.9931, 2.9403)\n",
      "t=0.08 A \\in (1.9308,3.8615), rho\\in (1.0602, 3.4825)\n",
      "t=0.09 A \\in (2.8454,6.1117), rho\\in (1.0872, 4.1555)\n",
      "t=0.1 A \\in (4.2772,9.4540), rho\\in (1.0784, 4.7911)\n",
      "t=0.11 A \\in (6.2986,13.4585), rho\\in (1.0924, 5.2117)\n",
      "t=0.12 A \\in (7.6261,20.0056), rho\\in (0.9955, 5.1117)\n",
      "t=0.13 A \\in (9.0336,32.3576), rho\\in (0.8813, 4.4723)\n",
      "t=0.14 A \\in (11.0860,49.9411), rho\\in (0.6977, 3.9472)\n",
      "t=0.15 A \\in (13.5953,74.6353), rho\\in (0.4768, 3.3868)\n",
      "t=0.16 A \\in (16.9754,109.0323), rho\\in (0.3253, 2.5732)\n",
      "t=0.17 A \\in (22.0059,153.9924), rho\\in (0.2207, 1.7409)\n",
      "t=0.18 A \\in (30.8042,207.2540), rho\\in (0.1392, 1.0875)\n",
      "t=0.19 A \\in (46.9683,265.7808), rho\\in (0.1021, 0.6052)\n",
      "t=0.2 A \\in (72.5154,328.9871), rho\\in (0.0499, 0.2941)\n",
      "t=0.21 A \\in (108.3850,399.5635), rho\\in (0.0232, 0.1516)\n",
      "t=0.22 A \\in (156.1407,481.9023), rho\\in (-0.0099, 0.0704)\n",
      "t=0.23 A \\in (217.6371,580.6679), rho\\in (-0.0166, 0.0241)\n",
      "t=0.24 A \\in (295.7124,700.1584), rho\\in (-0.0156, 0.0135)\n",
      "t=0.25 A \\in (394.6425,844.6546), rho\\in (-0.0122, 0.0110)\n",
      "t=0.26 A \\in (519.2873,1020.0617), rho\\in (-0.0146, 0.0127)\n",
      "t=0.27 A \\in (675.7610,1231.9799), rho\\in (-0.0106, 0.0098)\n",
      "t=0.28 A \\in (872.0190,1489.9945), rho\\in (-0.0058, 0.0070)\n",
      "t=0.29 A \\in (1117.0414,1803.9331), rho\\in (-0.0071, 0.0051)\n",
      "t=0.3 A \\in (1422.2860,2185.2138), rho\\in (-0.0056, 0.0053)\n",
      "t=0.31 A \\in (1801.7809,2649.3483), rho\\in (-0.0027, 0.0065)\n",
      "t=0.32 A \\in (2274.3633,3214.9445), rho\\in (-0.0044, 0.0028)\n",
      "t=0.33 A \\in (2858.3025,3903.7808), rho\\in (-0.0027, 0.0029)\n",
      "t=0.34 A \\in (3581.4673,4742.7868), rho\\in (-0.0010, 0.0031)\n"
     ]
    },
    {
     "ename": "KeyboardInterrupt",
     "evalue": "",
     "output_type": "error",
     "traceback": [
      "\u001b[0;31m---------------------------------------------------------------------------\u001b[0m",
      "\u001b[0;31mKeyboardInterrupt\u001b[0m                         Traceback (most recent call last)",
      "\u001b[0;32m<ipython-input-28-d341404f4044>\u001b[0m in \u001b[0;36m<module>\u001b[0;34m()\u001b[0m\n\u001b[1;32m     43\u001b[0m     \u001b[0;31m# now for rho\u001b[0m\u001b[0;34m\u001b[0m\u001b[0;34m\u001b[0m\u001b[0m\n\u001b[1;32m     44\u001b[0m     \u001b[0mobs_rho_t\u001b[0m \u001b[0;34m=\u001b[0m \u001b[0;34m[\u001b[0m\u001b[0;34m(\u001b[0m\u001b[0mlast_design_rho\u001b[0m\u001b[0;34m,\u001b[0m \u001b[0msamp_rho\u001b[0m\u001b[0;34m)\u001b[0m\u001b[0;34m,\u001b[0m \u001b[0;34m(\u001b[0m\u001b[0mdesign_rho_t\u001b[0m\u001b[0;34m,\u001b[0m \u001b[0mnp\u001b[0m\u001b[0;34m.\u001b[0m\u001b[0mzeros\u001b[0m\u001b[0;34m(\u001b[0m\u001b[0;34m(\u001b[0m\u001b[0mn_pts\u001b[0m\u001b[0;34m,\u001b[0m \u001b[0;36m1\u001b[0m\u001b[0;34m)\u001b[0m\u001b[0;34m)\u001b[0m\u001b[0;34m)\u001b[0m\u001b[0;34m]\u001b[0m\u001b[0;34m\u001b[0m\u001b[0m\n\u001b[0;32m---> 45\u001b[0;31m     \u001b[0mrho_t\u001b[0m \u001b[0;34m=\u001b[0m \u001b[0mbpdes\u001b[0m\u001b[0;34m.\u001b[0m\u001b[0mcollocate\u001b[0m\u001b[0;34m(\u001b[0m\u001b[0;34m[\u001b[0m\u001b[0mIdentity\u001b[0m\u001b[0;34m,\u001b[0m \u001b[0mop_rho\u001b[0m\u001b[0;34m]\u001b[0m\u001b[0;34m,\u001b[0m \u001b[0;34m[\u001b[0m\u001b[0mIdentity\u001b[0m\u001b[0;34m,\u001b[0m \u001b[0mop_rho_bar\u001b[0m\u001b[0;34m]\u001b[0m\u001b[0;34m,\u001b[0m \u001b[0mobs_rho_t\u001b[0m\u001b[0;34m,\u001b[0m \u001b[0mop_system_rho\u001b[0m\u001b[0;34m,\u001b[0m \u001b[0mfun_args\u001b[0m\u001b[0;34m)\u001b[0m\u001b[0;34m\u001b[0m\u001b[0m\n\u001b[0m\u001b[1;32m     46\u001b[0m     \u001b[0msamp_rho\u001b[0m \u001b[0;34m=\u001b[0m \u001b[0mrho_t\u001b[0m\u001b[0;34m.\u001b[0m\u001b[0msample\u001b[0m\u001b[0;34m(\u001b[0m\u001b[0mdesign_rho_t\u001b[0m\u001b[0;34m)\u001b[0m\u001b[0;34m\u001b[0m\u001b[0m\n\u001b[1;32m     47\u001b[0m \u001b[0;34m\u001b[0m\u001b[0m\n",
      "\u001b[0;32m/Users/benorn/Coding/bayesian_pdes/bayesian_pdes/collocation.pyc\u001b[0m in \u001b[0;36mcollocate\u001b[0;34m(operators, operators_bar, observations, op_system, fun_args)\u001b[0m\n\u001b[1;32m     37\u001b[0m                         .format(len(observations), len(operators)))\n\u001b[1;32m     38\u001b[0m \u001b[0;34m\u001b[0m\u001b[0m\n\u001b[0;32m---> 39\u001b[0;31m     \u001b[0mLLbar\u001b[0m \u001b[0;34m=\u001b[0m \u001b[0mcalc_LLbar\u001b[0m\u001b[0;34m(\u001b[0m\u001b[0moperators\u001b[0m\u001b[0;34m,\u001b[0m \u001b[0moperators_bar\u001b[0m\u001b[0;34m,\u001b[0m \u001b[0mobservations\u001b[0m\u001b[0;34m,\u001b[0m \u001b[0mop_system\u001b[0m\u001b[0;34m,\u001b[0m \u001b[0mfun_args\u001b[0m\u001b[0;34m)\u001b[0m\u001b[0;34m\u001b[0m\u001b[0m\n\u001b[0m\u001b[1;32m     40\u001b[0m     \u001b[0mLLbar_inv\u001b[0m \u001b[0;34m=\u001b[0m \u001b[0mnp\u001b[0m\u001b[0;34m.\u001b[0m\u001b[0mlinalg\u001b[0m\u001b[0;34m.\u001b[0m\u001b[0minv\u001b[0m\u001b[0;34m(\u001b[0m\u001b[0mLLbar\u001b[0m\u001b[0;34m)\u001b[0m\u001b[0;34m\u001b[0m\u001b[0m\n\u001b[1;32m     41\u001b[0m \u001b[0;34m\u001b[0m\u001b[0m\n",
      "\u001b[0;32m/Users/benorn/Coding/bayesian_pdes/bayesian_pdes/collocation.pyc\u001b[0m in \u001b[0;36mcalc_LLbar\u001b[0;34m(operators, operators_bar, observations, op_cache, fun_args)\u001b[0m\n\u001b[1;32m     83\u001b[0m \u001b[0;32mdef\u001b[0m \u001b[0mcalc_LLbar\u001b[0m\u001b[0;34m(\u001b[0m\u001b[0moperators\u001b[0m\u001b[0;34m,\u001b[0m \u001b[0moperators_bar\u001b[0m\u001b[0;34m,\u001b[0m \u001b[0mobservations\u001b[0m\u001b[0;34m,\u001b[0m \u001b[0mop_cache\u001b[0m\u001b[0;34m,\u001b[0m \u001b[0mfun_args\u001b[0m\u001b[0;34m=\u001b[0m\u001b[0mNone\u001b[0m\u001b[0;34m)\u001b[0m\u001b[0;34m:\u001b[0m\u001b[0;34m\u001b[0m\u001b[0m\n\u001b[1;32m     84\u001b[0m     \u001b[0mpoints\u001b[0m \u001b[0;34m=\u001b[0m \u001b[0;34m[\u001b[0m\u001b[0mp\u001b[0m \u001b[0;32mfor\u001b[0m \u001b[0mp\u001b[0m\u001b[0;34m,\u001b[0m \u001b[0m_\u001b[0m \u001b[0;32min\u001b[0m \u001b[0mobservations\u001b[0m\u001b[0;34m]\u001b[0m\u001b[0;34m\u001b[0m\u001b[0m\n\u001b[0;32m---> 85\u001b[0;31m     \u001b[0;32mreturn\u001b[0m \u001b[0mcompute_operator_matrix\u001b[0m\u001b[0;34m(\u001b[0m\u001b[0moperators\u001b[0m\u001b[0;34m,\u001b[0m \u001b[0moperators_bar\u001b[0m\u001b[0;34m,\u001b[0m \u001b[0mpoints\u001b[0m\u001b[0;34m,\u001b[0m \u001b[0mpoints\u001b[0m\u001b[0;34m,\u001b[0m \u001b[0mop_cache\u001b[0m\u001b[0;34m,\u001b[0m \u001b[0mfun_args\u001b[0m\u001b[0;34m)\u001b[0m\u001b[0;34m\u001b[0m\u001b[0m\n\u001b[0m\u001b[1;32m     86\u001b[0m \u001b[0;34m\u001b[0m\u001b[0m\n\u001b[1;32m     87\u001b[0m \u001b[0;34m\u001b[0m\u001b[0m\n",
      "\u001b[0;32m/Users/benorn/Coding/bayesian_pdes/bayesian_pdes/collocation.pyc\u001b[0m in \u001b[0;36mcompute_operator_matrix\u001b[0;34m(operators, operators_bar, points, points_bar, op_system, fun_args)\u001b[0m\n\u001b[1;32m     74\u001b[0m         \u001b[0;32mfor\u001b[0m \u001b[0mop_bar\u001b[0m\u001b[0;34m,\u001b[0m \u001b[0mp_bar\u001b[0m \u001b[0;32min\u001b[0m \u001b[0mzip\u001b[0m\u001b[0;34m(\u001b[0m\u001b[0moperators_bar\u001b[0m\u001b[0;34m,\u001b[0m \u001b[0mpoints_bar\u001b[0m\u001b[0;34m)\u001b[0m\u001b[0;34m:\u001b[0m\u001b[0;34m\u001b[0m\u001b[0m\n\u001b[1;32m     75\u001b[0m             \u001b[0mfun_op\u001b[0m \u001b[0;34m=\u001b[0m \u001b[0mop_system\u001b[0m\u001b[0;34m[\u001b[0m\u001b[0;34m(\u001b[0m\u001b[0mop\u001b[0m\u001b[0;34m,\u001b[0m \u001b[0mop_bar\u001b[0m\u001b[0;34m)\u001b[0m\u001b[0;34m]\u001b[0m\u001b[0;34m\u001b[0m\u001b[0m\n\u001b[0;32m---> 76\u001b[0;31m             \u001b[0mapplied\u001b[0m \u001b[0;34m=\u001b[0m \u001b[0mfun_op\u001b[0m\u001b[0;34m(\u001b[0m\u001b[0mp\u001b[0m\u001b[0;34m,\u001b[0m \u001b[0mp_bar\u001b[0m\u001b[0;34m,\u001b[0m \u001b[0mfun_args\u001b[0m\u001b[0;34m)\u001b[0m\u001b[0;34m\u001b[0m\u001b[0m\n\u001b[0m\u001b[1;32m     77\u001b[0m             \u001b[0mrow\u001b[0m\u001b[0;34m.\u001b[0m\u001b[0mappend\u001b[0m\u001b[0;34m(\u001b[0m\u001b[0mapplied\u001b[0m\u001b[0;34m)\u001b[0m\u001b[0;34m\u001b[0m\u001b[0m\n\u001b[1;32m     78\u001b[0m         \u001b[0mrows\u001b[0m\u001b[0;34m.\u001b[0m\u001b[0mappend\u001b[0m\u001b[0;34m(\u001b[0m\u001b[0mnp\u001b[0m\u001b[0;34m.\u001b[0m\u001b[0mcolumn_stack\u001b[0m\u001b[0;34m(\u001b[0m\u001b[0mrow\u001b[0m\u001b[0;34m)\u001b[0m\u001b[0;34m)\u001b[0m\u001b[0;34m\u001b[0m\u001b[0m\n",
      "\u001b[0;32m/Users/benorn/Coding/bayesian_pdes/bayesian_pdes/operator_compilation/sympy.pyc\u001b[0m in \u001b[0;36m__ret_function\u001b[0;34m(a, b, extra)\u001b[0m\n\u001b[1;32m     52\u001b[0m \u001b[0;34m\u001b[0m\u001b[0m\n\u001b[1;32m     53\u001b[0m     \u001b[0;32mdef\u001b[0m \u001b[0m__ret_function\u001b[0m\u001b[0;34m(\u001b[0m\u001b[0ma\u001b[0m\u001b[0;34m,\u001b[0m \u001b[0mb\u001b[0m\u001b[0;34m,\u001b[0m \u001b[0mextra\u001b[0m\u001b[0;34m=\u001b[0m\u001b[0mNone\u001b[0m\u001b[0;34m)\u001b[0m\u001b[0;34m:\u001b[0m\u001b[0;34m\u001b[0m\u001b[0m\n\u001b[0;32m---> 54\u001b[0;31m         \u001b[0;32mreturn\u001b[0m \u001b[0mpairwise\u001b[0m\u001b[0;34m.\u001b[0m\u001b[0mapply\u001b[0m\u001b[0;34m(\u001b[0m\u001b[0msympy_fun\u001b[0m\u001b[0;34m,\u001b[0m \u001b[0ma\u001b[0m\u001b[0;34m,\u001b[0m \u001b[0mb\u001b[0m\u001b[0;34m,\u001b[0m \u001b[0mextra\u001b[0m\u001b[0;34m)\u001b[0m\u001b[0;34m\u001b[0m\u001b[0m\n\u001b[0m\u001b[1;32m     55\u001b[0m \u001b[0;34m\u001b[0m\u001b[0m\n\u001b[1;32m     56\u001b[0m     \u001b[0;32mreturn\u001b[0m \u001b[0m__ret_function\u001b[0m\u001b[0;34m\u001b[0m\u001b[0m\n",
      "\u001b[0;32mpairwise/application.pyx\u001b[0m in \u001b[0;36mpairwise.application.apply (pairwise/application.c:1686)\u001b[0;34m()\u001b[0m\n",
      "\u001b[0;32m/Users/benorn/Coding/bayesian_pdes/bayesian_pdes/sympy_helpers.pyc\u001b[0m in \u001b[0;36m__apply_two_arg\u001b[0;34m(*args)\u001b[0m\n\u001b[1;32m     15\u001b[0m     \u001b[0;31m# this is unsafe!\u001b[0m\u001b[0;34m\u001b[0m\u001b[0;34m\u001b[0m\u001b[0m\n\u001b[1;32m     16\u001b[0m     \u001b[0;32mdef\u001b[0m \u001b[0m__apply_two_arg\u001b[0m\u001b[0;34m(\u001b[0m\u001b[0;34m*\u001b[0m\u001b[0margs\u001b[0m\u001b[0;34m)\u001b[0m\u001b[0;34m:\u001b[0m\u001b[0;34m\u001b[0m\u001b[0m\n\u001b[0;32m---> 17\u001b[0;31m         \u001b[0mret\u001b[0m \u001b[0;34m=\u001b[0m \u001b[0mcompiled_func\u001b[0m\u001b[0;34m(\u001b[0m\u001b[0;34m*\u001b[0m\u001b[0mnp\u001b[0m\u001b[0;34m.\u001b[0m\u001b[0mconcatenate\u001b[0m\u001b[0;34m(\u001b[0m\u001b[0margs\u001b[0m\u001b[0;34m)\u001b[0m\u001b[0;34m)\u001b[0m\u001b[0;34m\u001b[0m\u001b[0m\n\u001b[0m\u001b[1;32m     18\u001b[0m         \u001b[0;32mreturn\u001b[0m \u001b[0mret\u001b[0m\u001b[0;34m\u001b[0m\u001b[0m\n\u001b[1;32m     19\u001b[0m \u001b[0;34m\u001b[0m\u001b[0m\n",
      "\u001b[0;31mKeyboardInterrupt\u001b[0m: "
     ]
    }
   ],
   "source": [
    "design_t = bpdes.parabolic.augment_with_time(design_points, times[0])\n",
    "\n",
    "predict_rho = rho_t0*np.ones(n_pts)\n",
    "predict_A = np.column_stack([A_t0*np.ones(n_pts), np.zeros(n_pts), np.zeros(n_pts), np.zeros(n_pts)])\n",
    "\n",
    "design_A_t, design_rho_t = construct_design(times[0], predict_A, predict_rho)\n",
    "design_A_predict, design_rho_predict = construct_design(dt, predict_A, predict_rho)\n",
    "\n",
    "obs_A_t = [(design_A_t, A_t0*np.ones(n_pts))]\n",
    "obs_rho_t = [(design_rho_t, rho_t0*np.ones(n_pts))]\n",
    "\n",
    "A_t = bpdes.collocate([Identity], [Identity], obs_A_t, op_system_A, fun_args)\n",
    "A_t_derivs = A_t.apply_operators(samp_ops, samp_ops_bar)\n",
    "rho_t = bpdes.collocate([Identity], [Identity], obs_rho_t, op_system_rho, fun_args)\n",
    "\n",
    "#samp_A = A_t_derivs.sample(np.row_stack([design_A_t, design_A_predict]))\n",
    "#samp_rho = rho_t.sample(np.row_stack([design_rho_t, design_rho_predict]))\n",
    "samp_A = A_t_derivs.sample(design_A_t)\n",
    "samp_rho = rho_t.sample(design_rho_t)\n",
    "\n",
    "# so we now have a sample from A, rho as well as the prediction of the next value\n",
    "samp_A = reshape_op_mat(samp_A, design_A_t, 4)\n",
    "\n",
    "A_samples = [samp_A]\n",
    "rho_samples = [samp_rho]\n",
    "\n",
    "for ix,t in enumerate(times[1:]):\n",
    "    \n",
    "    last_design_A = design_A_t\n",
    "    last_design_rho = design_rho_t\n",
    "    \n",
    "    # should be predictions in here, not samples! But something seems to be wrong with the forecast.\n",
    "    design_A_t, design_rho_t = construct_design(t, samp_A, samp_rho)\n",
    "    design_A_predict, design_rho_predict = construct_design(t+dt, samp_A, samp_rho)\n",
    "    \n",
    "    # first solve for A\n",
    "    obs_A_t = [(last_design_A, samp_A[:,0][:,None]), (design_A_t, np.zeros((n_pts, 1)))]\n",
    "    A_t = bpdes.collocate([Identity, op_A], [Identity, op_A_bar], obs_A_t, op_system_A, fun_args)\n",
    "    A_t_derivs = A_t.apply_operators(samp_ops, samp_ops_bar)\n",
    "    samp_A_tmp = A_t_derivs.sample(design_A_t)\n",
    "    samp_A = reshape_op_mat(samp_A_tmp, design_A_t, 4)\n",
    "    \n",
    "    # now for rho\n",
    "    obs_rho_t = [(last_design_rho, samp_rho), (design_rho_t, np.zeros((n_pts, 1)))]\n",
    "    rho_t = bpdes.collocate([Identity, op_rho], [Identity, op_rho_bar], obs_rho_t, op_system_rho, fun_args)\n",
    "    samp_rho = rho_t.sample(design_rho_t)\n",
    "    \n",
    "    A_samples.append(samp_A)\n",
    "    rho_samples.append(samp_rho)\n",
    "    \n",
    "    # log maxima\n",
    "    rhomax, rhomin = samp_rho.max(), samp_rho.min()\n",
    "    amax, amin = samp_A[:,0].max(), samp_A[:,0].min()\n",
    "    \n",
    "    print('t={} A \\in ({:.4f},{:.4f}), rho\\in ({:.4f}, {:.4f})'.format(t, amin, amax, rhomin, rhomax))"
   ]
  },
  {
   "cell_type": "code",
   "execution_count": null,
   "metadata": {
    "collapsed": false,
    "scrolled": false
   },
   "outputs": [],
   "source": [
    "# First set up the figure, the axis, and the plot element we want to animate\n",
    "x = design_points\n",
    "to_anim_left = [s[:,0] for s in A_samples]\n",
    "to_anim_right = rho_samples\n",
    "fig, axes = plt.subplots(2,1, figsize=(5,10), sharex=True)\n",
    "levels_left = np.linspace(np.column_stack(to_anim_left).min(), np.column_stack(to_anim_left).max(), 10)\n",
    "levels_right = np.linspace(np.column_stack(to_anim_right).min(), np.column_stack(to_anim_right).max(), 10)\n",
    "#axes[0].set_xlim(design_points.min(), design_points.max())\n",
    "#axes[0].set_ylim(np.column_stack(to_anim_left).min(), np.column_stack(to_anim_left).max())\n",
    "\n",
    "#axes[1].set_xlim(design_points.min(), design_points.max())\n",
    "#axes[1].set_ylim(np.column_stack(to_anim_right).min(), np.column_stack(to_anim_right).max())\n",
    "\n",
    "#line_A, = axes[0].plot([], [])\n",
    "#line_rho, = axes[1].plot([], [])\n",
    "\n",
    "# initialization function: plot the background of each frame\n",
    "def init():\n",
    "    return []\n",
    "\n",
    "# animation function.  This is called sequentially\n",
    "def animate(i):\n",
    "    axes[0].contourf(design_x, design_y, to_anim_left[i].reshape(design_x.shape), levels=levels_left)\n",
    "    axes[1].contourf(design_x, design_y, to_anim_right[i].reshape(design_x.shape), levels=levels_right)\n",
    "    return []\n",
    "\n",
    "# call the animator.  blit=True means only re-draw the parts that have changed.\n",
    "anim = animation.FuncAnimation(fig, animate, init_func=init,\n",
    "                               frames=len(to_anim_left), interval=20, blit=False)\n",
    "plt.close()\n",
    "anim"
   ]
  },
  {
   "cell_type": "code",
   "execution_count": null,
   "metadata": {
    "collapsed": false
   },
   "outputs": [],
   "source": [
    "plot_field(A_samples[-1][:,0], 50); plt.colorbar()"
   ]
  },
  {
   "cell_type": "code",
   "execution_count": null,
   "metadata": {
    "collapsed": false
   },
   "outputs": [],
   "source": [
    "levels_left"
   ]
  },
  {
   "cell_type": "code",
   "execution_count": null,
   "metadata": {
    "collapsed": false
   },
   "outputs": [],
   "source": [
    "design_rho_t.shape, design_rho_predict.shape"
   ]
  },
  {
   "cell_type": "code",
   "execution_count": null,
   "metadata": {
    "collapsed": false
   },
   "outputs": [],
   "source": [
    "obs_A_t"
   ]
  },
  {
   "cell_type": "code",
   "execution_count": null,
   "metadata": {
    "collapsed": false
   },
   "outputs": [],
   "source": [
    "\n",
    "test_points = np.linspace(0,1,51)[:,None]\n",
    "\n",
    "def obs_function(t):\n",
    "    design = bpdes.parabolic.augment_with_time(design_points, t)\n",
    "    values = np.zeros((design.shape[0], 1))\n",
    "    return [(design, values)]\n",
    "\n",
    "def test_function(t):\n",
    "    return bpdes.parabolic.augment_with_time(test_points, t)\n",
    "\n",
    "A_t0 = A_0 + Theta*D*eta/omega\n",
    "\n",
    "initial_points = bpdes.parabolic.augment_with_time(design_points, 0)\n",
    "init_A = A_t0 * np.ones((initial_points.shape[0], 1))\n",
    "\n",
    "ics = [(initial_points, init_A)]\n",
    "\n",
    "posteriors = bpdes.parabolic.solve_parabolic(op_system_A, [op_A], [op_A_bar], times, obs_function, ics, fun_args)"
   ]
  },
  {
   "cell_type": "code",
   "execution_count": null,
   "metadata": {
    "collapsed": false
   },
   "outputs": [],
   "source": [
    "p_ix = 4\n",
    "p = posteriors[p_ix]\n",
    "pts = test_function(times[p_ix])\n",
    "mu, cov = p.apply_operator([(), A_x, A_xx], [(), A_y, A_yy])(pts)\n",
    "for i in range(3):\n",
    "    plt.plot(pts[:,0], mu[i*len(pts):(i+1)*len(pts)], label='D{}'.format(i))\n",
    "for item in design_points:\n",
    "    plt.axvline(item, linestyle='--', c='black')\n",
    "plt.legend()"
   ]
  },
  {
   "cell_type": "code",
   "execution_count": null,
   "metadata": {
    "collapsed": false
   },
   "outputs": [],
   "source": [
    "mu = []\n",
    "cov = []\n",
    "for t, posterior in zip(times, posteriors):\n",
    "    test_t = test_function(t)\n",
    "    mu_t, cov_t = posterior(test_t)\n",
    "    mu.append(mu_t)"
   ]
  },
  {
   "cell_type": "code",
   "execution_count": null,
   "metadata": {
    "collapsed": false
   },
   "outputs": [],
   "source": [
    "plt.plot(test_points, mu[4]);"
   ]
  },
  {
   "cell_type": "code",
   "execution_count": null,
   "metadata": {
    "collapsed": false,
    "scrolled": true
   },
   "outputs": [],
   "source": [
    "plt.plot(test_points, np.column_stack(mu));"
   ]
  },
  {
   "cell_type": "markdown",
   "metadata": {},
   "source": [
    "# Now rho"
   ]
  },
  {
   "cell_type": "code",
   "execution_count": null,
   "metadata": {
    "collapsed": false
   },
   "outputs": [],
   "source": [
    "Identity = ()\n",
    "def make_rho_locs(t, A, A_x, A_xx):\n",
    "    locs = bpdes.parabolic.augment_with_time(design_points, t)\n",
    "    locs = np.column_stack([locs, A, A_x, A_xx])\n",
    "    return locs\n",
    "def make_rho_obs(t, A, A_x, A_xx):\n",
    "    locations = make_rho_locs(t, A, A_x, A_xx)\n",
    "    return [(locations, np.zeros((locations.shape[0], 1)))]\n",
    "\n",
    "rho_t0 = 1./l**2\n",
    "rho_loc_0 = make_rho_locs(times[0], init_A, np.zeros_like(init_A), np.zeros_like(init_A))\n",
    "init_rho = rho_t0*np.ones((rho_loc_0.shape[0], 1))\n",
    "rho_obs_0 = [(rho_loc_0, init_rho)]\n",
    "rho_posterior_t0 = bpdes.collocation.collocate([Identity], [Identity], rho_obs_0, op_system_rho, fun_args)"
   ]
  },
  {
   "cell_type": "code",
   "execution_count": null,
   "metadata": {
    "collapsed": false
   },
   "outputs": [],
   "source": [
    "A_posterior_t1 = posteriors[1].apply_operator([Identity, A_x, A_xx], [Identity, A_y, A_yy])\n",
    "samp = A_posterior_t1.sample(obs_function(times[1])[0][0]).T\n",
    "A_samp, A_x_samp, A_xx_samp = samp[:len(samp)/3], samp[len(samp)/3:2*len(samp)/3], samp[2*len(samp)/3:]"
   ]
  },
  {
   "cell_type": "code",
   "execution_count": null,
   "metadata": {
    "collapsed": false
   },
   "outputs": [],
   "source": [
    "all_rho_ops = [[Identity], [op_rho]] + [[op_rho]]\n",
    "all_rho_ops_bar = [[Identity], [op_rho_bar]]\n",
    "all_rho_obs = [rho_obs_0, make_rho_obs(times[1], A_samp, A_x_samp, A_xx_samp)]\n",
    "rho_posterior_t1 = bpdes.parabolic.step_forward(all_rho_ops, all_rho_ops_bar, all_rho_obs, op_system_rho, fun_args, rho_posterior_t0)"
   ]
  },
  {
   "cell_type": "code",
   "execution_count": null,
   "metadata": {
    "collapsed": false
   },
   "outputs": [],
   "source": [
    "rho_posterior_t1"
   ]
  }
 ],
 "metadata": {
  "kernelspec": {
   "display_name": "Python 2",
   "language": "python",
   "name": "python2"
  },
  "language_info": {
   "codemirror_mode": {
    "name": "ipython",
    "version": 2
   },
   "file_extension": ".py",
   "mimetype": "text/x-python",
   "name": "python",
   "nbconvert_exporter": "python",
   "pygments_lexer": "ipython2",
   "version": "2.7.11"
  }
 },
 "nbformat": 4,
 "nbformat_minor": 0
}
