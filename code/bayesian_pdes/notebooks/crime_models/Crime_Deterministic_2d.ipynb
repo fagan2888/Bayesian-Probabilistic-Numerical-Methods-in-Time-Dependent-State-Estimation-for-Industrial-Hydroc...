{
 "cells": [
  {
   "cell_type": "code",
   "execution_count": 1,
   "metadata": {
    "collapsed": false
   },
   "outputs": [],
   "source": [
    "%matplotlib inline\n",
    "import matplotlib.pyplot as plt\n",
    "import numpy as np\n",
    "from scipy import linalg\n",
    "from bayesian_pdes.util import bccb\n",
    "%load_ext line_profiler"
   ]
  },
  {
   "cell_type": "code",
   "execution_count": 2,
   "metadata": {
    "collapsed": false
   },
   "outputs": [],
   "source": [
    "l = 1.\n",
    "dt = 0.01\n",
    "omega = 1./15.\n",
    "eta = 0.03\n",
    "A_0 = 1./30.\n",
    "# static hotspots\n",
    "theta = 0.56\n",
    "Gamma = 0.019\n",
    "# dynamic hotspots\n",
    "#theta = 5.6\n",
    "#Gamma = 0.002\n",
    "z = 4.\n",
    "\n",
    "D = l**2 / dt\n",
    "epsilon = theta*dt\n",
    "gamma = Gamma / l**2\n",
    "B_bar = epsilon*D*gamma / omega\n",
    "\n",
    "A_init = A_0 + B_bar\n",
    "rho_init = B_bar / A_init\n"
   ]
  },
  {
   "cell_type": "code",
   "execution_count": 3,
   "metadata": {
    "collapsed": false
   },
   "outputs": [],
   "source": [
    "N_spatial = 128\n",
    "x_sq, y_sq = np.meshgrid(np.arange(0, N_spatial, int(l)), np.arange(0, N_spatial, int(l)), indexing='xy')\n",
    "x = x_sq.ravel()\n",
    "y = y_sq.ravel()"
   ]
  },
  {
   "cell_type": "code",
   "execution_count": 4,
   "metadata": {
    "collapsed": false
   },
   "outputs": [],
   "source": [
    "lshift = (x + 1) % N_spatial + y*N_spatial\n",
    "rshift = (x - 1) % N_spatial + y*N_spatial\n",
    "ushift = x + ((y+1) % N_spatial)*N_spatial\n",
    "dshift = x + ((y-1) % N_spatial)*N_spatial"
   ]
  },
  {
   "cell_type": "code",
   "execution_count": 5,
   "metadata": {
    "collapsed": true
   },
   "outputs": [],
   "source": [
    "def laplacian(vec):\n",
    "    return (vec[rshift] + vec[lshift] + vec[ushift] + vec[dshift] - 4*vec) / l**2\n",
    "\n",
    "def grad_x(vec):\n",
    "    return (vec[lshift] - vec[rshift]) / (2*l)\n",
    "\n",
    "def grad_y(vec):\n",
    "    return (vec[ushift] - vec[dshift]) / (2*l)"
   ]
  },
  {
   "cell_type": "code",
   "execution_count": 7,
   "metadata": {
    "collapsed": false
   },
   "outputs": [],
   "source": [
    "diag_B = 1 + omega*dt - eta*D*dt / z * -4./l**2\n",
    "off_diag_B = -eta*D*dt/z * 1./l**2\n",
    "first_col_B = np.zeros(len(x))\n",
    "first_col_B[0] = diag_B\n",
    "first_col_B[[lshift[0], rshift[0], ushift[0], dshift[0]]] = off_diag_B\n",
    "\n",
    "bccb_shape=(N_spatial,N_spatial)\n",
    "\n",
    "bccb_eigs_B = bccb.bccb_eigs(first_col_B, bccb_shape, reshape=False)\n",
    "\n",
    "def solve_B(B_n, A_n, rho_n, return_mats=False):\n",
    "    rhs_vec = B_n + epsilon*D*dt*rho_n*A_n\n",
    "    \n",
    "    bccb_soln = bccb.bccb_solve(first_col_B, rhs_vec, bccb_shape, bccb_eigs_B)\n",
    "    #bccb_soln = linalg.solve_circulant(first_col_B, rhs_vec)\n",
    "    \n",
    "    res = np.real(bccb_soln)\n",
    "    if return_mats:\n",
    "        return first_col_B, rhs_vec, res\n",
    "    return res"
   ]
  },
  {
   "cell_type": "code",
   "execution_count": 8,
   "metadata": {
    "collapsed": true
   },
   "outputs": [],
   "source": [
    "def solve_rho(B_n, A_n, rho_n, return_mats=False):\n",
    "    laplacian_A = laplacian(A_n)\n",
    "    grad_A_x = grad_x(A_n)\n",
    "    grad_A_y = grad_y(A_n)\n",
    "    grad_rho_x = grad_x(rho_n)\n",
    "    grad_rho_y = grad_y(rho_n)\n",
    "    f = 2*D*dt / z * (laplacian_A / A_n - (grad_A_x**2 + grad_A_y**2) / A_n**2) + A_n*dt\n",
    "    C = np.max(f)\n",
    "    #C = 0\n",
    "    \n",
    "    diag = 1 + C - D*dt/z * -4./l**2\n",
    "    off_diag = -D*dt/z * 1./l**2\n",
    "    \n",
    "    first_col = np.zeros(len(A_n))\n",
    "    first_col[0] = diag\n",
    "    first_col[[lshift[0], rshift[0], ushift[0], dshift[0]]] = off_diag\n",
    "    \n",
    "    rhs_vec = (1 + C - f) * rho_n - 2*D*dt/z * (grad_rho_x*grad_A_x + grad_rho_y*grad_A_y) / A_n + gamma*dt\n",
    "    \n",
    "    bccb_sol = bccb.bccb_solve(first_col, rhs_vec, bccb_shape)\n",
    "    #bccb_sol = linalg.solve_circulant(first_col, rhs_vec)\n",
    "    res = np.real(bccb_sol)\n",
    "    \n",
    "    if return_mats:\n",
    "        return first_col, rhs_vec, res\n",
    "    return res"
   ]
  },
  {
   "cell_type": "code",
   "execution_count": 17,
   "metadata": {
    "collapsed": false
   },
   "outputs": [],
   "source": [
    "import os\n",
    "base_dir = 'crime_results_2d'\n",
    "A_file_pattern = os.path.join(base_dir, 'A_t={}.npy')\n",
    "rho_file_pattern = os.path.join(base_dir, 'rho_t={}.npy')\n",
    "\n",
    "n_initial_spots = 20\n",
    "\n",
    "def solve_forward(times, save_interval=100):\n",
    "    A = []\n",
    "    rho = []\n",
    "\n",
    "    #A_n = A_init*np.ones(len(x)) + np.random.normal(0, 0.01, len(x))\n",
    "    A_n = A_init*np.ones(len(x))\n",
    "    for i in xrange(n_initial_spots):\n",
    "        loc = np.random.randint(0, len(x))\n",
    "        A_n[loc] = A_n[loc] * 1.1\n",
    "    rho_n = rho_init*np.ones(len(x))\n",
    "    \n",
    "    with open(A_file_pattern.format(0.), 'wb') as f:\n",
    "        np.save(f, A_n)\n",
    "\n",
    "    with open(rho_file_pattern.format(0.), 'wb') as f:\n",
    "        np.save(f, rho_n)\n",
    "    \n",
    "    A.append(A_n)\n",
    "    rho.append(rho_n)\n",
    "    for ix, t in enumerate(times):\n",
    "        if ix % 100 == 0: print ix,\n",
    "        B_next = solve_B(A_n-A_0, A_n, rho_n)\n",
    "        A_next = B_next + A_0\n",
    "        \n",
    "        rho_next = solve_rho(A_n-A_0, A_n, rho_n)\n",
    "\n",
    "        if np.any(np.isnan(A_next)): \n",
    "            print('NaN values encountered in A_n')\n",
    "            return A, rho\n",
    "        if np.any(np.isnan(rho_next)):\n",
    "            print('NaN values encountered in rho_n')\n",
    "            return A, rho\n",
    "        \n",
    "        A_n = A_next\n",
    "        rho_n = rho_next\n",
    "        \n",
    "        if (ix + 1) % save_interval == 0:\n",
    "            #with open(A_file_pattern.format(t), 'wb') as f:\n",
    "            #    np.save(f, A_n)\n",
    "\n",
    "            #with open(rho_file_pattern.format(t), 'wb') as f:\n",
    "            #    np.save(f, rho_n)\n",
    "            A.append(A_n)\n",
    "            rho.append(rho_n)\n",
    "    \n",
    "    return A, rho"
   ]
  },
  {
   "cell_type": "code",
   "execution_count": 27,
   "metadata": {
    "collapsed": false
   },
   "outputs": [
    {
     "name": "stdout",
     "output_type": "stream",
     "text": [
      "0 100 200 300 400 500 600 700 800 900 1000 1100 1200 1300 1400 1500 1600 1700 1800 1900 2000 2100 2200 2300 2400 2500 2600 2700 2800 2900 3000 3100 3200 3300 3400 3500 3600 3700 3800 3900 4000 4100 4200 4300 4400 4500 4600 4700 4800 4900 5000 5100 5200 5300 5400 5500 5600 5700 5800 5900 6000 6100 6200 6300 6400 6500 6600 6700 6800 6900 7000 7100 7200 7300 7400 7500 7600 7700 7800 7900 8000 8100 8200 8300 8400 8500 8600 8700 8800 8900 9000 9100 9200 9300 9400 9500 9600 9700 9800 9900 10000 10100 10200 10300 10400 10500 10600 10700 10800 10900 11000 11100 11200 11300 11400 11500 11600 11700 11800 11900 12000 12100 12200 12300 12400 12500 12600 12700 12800 12900 13000 13100 13200 13300 13400 13500 13600 13700 13800 13900 14000 14100 14200 14300 14400 14500 14600 14700 14800 14900 15000 15100 15200 15300 15400 15500 15600 15700 15800 15900 16000 16100 16200 16300 16400 16500 16600 16700 16800 16900 17000 17100 17200 17300 17400 17500 17600 17700 17800 17900 18000 18100 18200 18300 18400 18500 18600 18700 18800 18900 19000 19100 19200 19300 19400 19500 19600 19700 19800 19900 20000 20100 20200 20300 20400 20500 20600 20700 20800 20900 21000 21100 21200 21300 21400 21500 21600 21700 21800 21900 22000 22100 22200 22300 22400 22500 22600 22700 22800 22900 23000 23100 23200 23300 23400 23500 23600 23700 23800 23900 24000 24100 24200 24300 24400 24500 24600 24700 24800 24900 25000 25100 25200 25300 NaN values encountered in A_n\n",
      "CPU times: user 1min 48s, sys: 6.72 s, total: 1min 55s\n",
      "Wall time: 1min 58s\n"
     ]
    },
    {
     "name": "stderr",
     "output_type": "stream",
     "text": [
      "/Users/benorn/.virtualenvs/stats/lib/python2.7/site-packages/ipykernel/__main__.py:12: RuntimeWarning: overflow encountered in multiply\n",
      "/Users/benorn/.virtualenvs/stats/lib/python2.7/site-packages/ipykernel/__main__.py:7: RuntimeWarning: overflow encountered in square\n",
      "/Users/benorn/.virtualenvs/stats/lib/python2.7/site-packages/ipykernel/__main__.py:7: RuntimeWarning: invalid value encountered in divide\n",
      "/Users/benorn/.virtualenvs/stats/lib/python2.7/site-packages/ipykernel/__main__.py:18: RuntimeWarning: overflow encountered in multiply\n"
     ]
    }
   ],
   "source": [
    "%%time\n",
    "Tend = 500\n",
    "np.random.seed(123)\n",
    "A, rho = solve_forward(np.arange(dt, Tend+dt, dt))"
   ]
  },
  {
   "cell_type": "code",
   "execution_count": 112,
   "metadata": {
    "collapsed": true
   },
   "outputs": [],
   "source": [
    "#np.save('crime_results_2d/A_random_seed.npy', A[:-1])\n",
    "#np.save('crime_results_2d/rho_random_seed.npy', rho[:-1])"
   ]
  },
  {
   "cell_type": "code",
   "execution_count": 35,
   "metadata": {
    "collapsed": true
   },
   "outputs": [],
   "source": [
    "from matplotlib import rc\n",
    "rc('font',**{'family':'sans-serif','sans-serif':['Helvetica']})"
   ]
  },
  {
   "cell_type": "code",
   "execution_count": 37,
   "metadata": {
    "collapsed": false,
    "scrolled": true
   },
   "outputs": [
    {
     "data": {
      "image/png": "[encoded data removed]",
      "text/plain": [
       "<matplotlib.figure.Figure at 0x114531b90>"
      ]
     },
     "metadata": {},
     "output_type": "display_data"
    }
   ],
   "source": [
    "plt.figure(figsize=(12,5))\n",
    "plt.subplot(121)\n",
    "plt.title('Criminal Concentration $\\\\rho$', fontsize=16)\n",
    "plt.contourf(x_sq, y_sq, rho[-10].reshape(x_sq.shape), cmap='bwr')\n",
    "plt.colorbar()\n",
    "\n",
    "plt.subplot(122)\n",
    "plt.title('Attractiveness $A$', fontsize=16)\n",
    "plt.contourf(x_sq, y_sq, A[-10].reshape(x_sq.shape), cmap='bwr')\n",
    "plt.colorbar()\n",
    "\n",
    "plt.savefig('crime_results_2d.pdf', transparent=True, bbox_inches=0)"
   ]
  },
  {
   "cell_type": "code",
   "execution_count": 12,
   "metadata": {
    "collapsed": false
   },
   "outputs": [
    {
     "data": {
      "text/plain": [
       "<matplotlib.colorbar.Colorbar at 0x11614a810>"
      ]
     },
     "execution_count": 12,
     "metadata": {},
     "output_type": "execute_result"
    },
    {
     "data": {
      "image/png": "[encoded data removed]",
      "text/plain": [
       "<matplotlib.figure.Figure at 0x115eab210>"
      ]
     },
     "metadata": {},
     "output_type": "display_data"
    }
   ],
   "source": [
    "plt.contourf(x_sq, y_sq, A[-1].reshape(x_sq.shape))\n",
    "plt.colorbar()"
   ]
  },
  {
   "cell_type": "code",
   "execution_count": null,
   "metadata": {
    "collapsed": true
   },
   "outputs": [],
   "source": []
  },
  {
   "cell_type": "code",
   "execution_count": 12,
   "metadata": {
    "collapsed": true
   },
   "outputs": [],
   "source": [
    "from tempfile import NamedTemporaryFile\n",
    "\n",
    "VIDEO_TAG = \"\"\"<video controls>\n",
    " <source src=\"data:video/x-m4v;base64,{0}\" type=\"video/mp4\">\n",
    " Your browser does not support the video tag.\n",
    "</video>\"\"\"\n",
    "\n",
    "def anim_to_html(anim):\n",
    "    if not hasattr(anim, '_encoded_video'):\n",
    "        with NamedTemporaryFile(suffix='.mp4') as f:\n",
    "            anim.save(f.name, fps=20, extra_args=['-vcodec', 'libx264'])\n",
    "            video = open(f.name, \"rb\").read()\n",
    "        anim._encoded_video = video.encode(\"base64\")\n",
    "    \n",
    "    return VIDEO_TAG.format(anim._encoded_video)\n",
    "from matplotlib import animation\n",
    "animation.Animation._repr_html_ = anim_to_html"
   ]
  },
  {
   "cell_type": "code",
   "execution_count": 13,
   "metadata": {
    "collapsed": false
   },
   "outputs": [
    {
     "data": {
      "text/html": [
       "<video controls>\n",
       " <source src=\"data:video/x-m4v;base64,AAAAIGZ0eXBpc29tAAACAGlzb21pc28yYXZjMW1wNDEAAAAIZnJlZQAAAAhtZGF0AAAA1m1vb3YA\n",
       "AABsbXZoZAAAAAAAAAAAAAAAAAAAA+gAAAAAAAEAAAEAAAAAAAAAAAAAAAABAAAAAAAAAAAAAAAA\n",
       "AAAAAQAAAAAAAAAAAAAAAAAAQAAAAAAAAAAAAAAAAAAAAAAAAAAAAAAAAAAAAAAAAAIAAABidWR0\n",
       "YQAAAFptZXRhAAAAAAAAACFoZGxyAAAAAAAAAABtZGlyYXBwbAAAAAAAAAAAAAAAAC1pbHN0AAAA\n",
       "Jal0b28AAAAdZGF0YQAAAAEAAAAATGF2ZjU2LjE1LjEwMg==\n",
       "\" type=\"video/mp4\">\n",
       " Your browser does not support the video tag.\n",
       "</video>"
      ],
      "text/plain": [
       "<matplotlib.animation.FuncAnimation at 0x10b82a790>"
      ]
     },
     "execution_count": 13,
     "metadata": {},
     "output_type": "execute_result"
    }
   ],
   "source": [
    "# First set up the figure, the axis, and the plot element we want to animate\n",
    "plt.figure(figsize=(10,10))\n",
    "ax = plt.gca()\n",
    "ax.set_xlim(0, N_spatial)\n",
    "ax.set_ylim(0,1)\n",
    "fig = plt.gcf()\n",
    "A_line, = ax.plot([], [], label='A')\n",
    "rho_line, = ax.plot([], [], label='rho')\n",
    "skip = 100\n",
    "plt.legend()\n",
    "# initialization function: plot the background of each frame\n",
    "def init():\n",
    "    return []\n",
    "\n",
    "# animation function.  This is called sequentially\n",
    "def animate(i):\n",
    "    A_line.set_data(x, A[skip*i])\n",
    "    rho_line.set_data(x, rho[skip*i])\n",
    "    return A_line, rho_line\n",
    "\n",
    "# call the animator.  blit=True means only re-draw the parts that have changed.\n",
    "anim = animation.FuncAnimation(fig, animate, init_func=init,\n",
    "                               frames=len(A) / skip, interval=20, blit=True)\n",
    "plt.close()\n",
    "anim"
   ]
  }
 ],
 "metadata": {
  "kernelspec": {
   "display_name": "Python 2",
   "language": "python",
   "name": "python2"
  },
  "language_info": {
   "codemirror_mode": {
    "name": "ipython",
    "version": 2
   },
   "file_extension": ".py",
   "mimetype": "text/x-python",
   "name": "python",
   "nbconvert_exporter": "python",
   "pygments_lexer": "ipython2",
   "version": "2.7.11"
  },
  "widgets": {
   "state": {},
   "version": "1.1.2"
  }
 },
 "nbformat": 4,
 "nbformat_minor": 0
}
