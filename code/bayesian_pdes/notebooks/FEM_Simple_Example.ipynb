{
 "cells": [
  {
   "cell_type": "code",
   "execution_count": 1,
   "metadata": {
    "collapsed": false
   },
   "outputs": [
    {
     "name": "stderr",
     "output_type": "stream",
     "text": [
      "/usr/local/lib/python2.7/dist-packages/matplotlib/font_manager.py:273: UserWarning: Matplotlib is building the font cache using fc-list. This may take a moment.\n",
      "  warnings.warn('Matplotlib is building the font cache using fc-list. This may take a moment.')\n"
     ]
    }
   ],
   "source": [
    "%matplotlib inline\n",
    "import dolfin as d\n",
    "import matplotlib.pyplot as plt\n",
    "import numpy as np"
   ]
  },
  {
   "cell_type": "code",
   "execution_count": 2,
   "metadata": {
    "collapsed": true
   },
   "outputs": [],
   "source": [
    "# for ipython notebook\n",
    "%matplotlib inline\n",
    "\n",
    "import matplotlib.pyplot as plt\n",
    "import matplotlib.tri as tri\n",
    "\n",
    "def mesh2triang(mesh):\n",
    "    xy = mesh.coordinates()\n",
    "    return tri.Triangulation(xy[:, 0], xy[:, 1], mesh.cells())\n",
    "\n",
    "def plot(obj):\n",
    "    #plt.gca().set_aspect('equal')\n",
    "    if isinstance(obj, d.Function):\n",
    "        mesh = obj.function_space().mesh()\n",
    "        if (mesh.geometry().dim() > 2):\n",
    "            raise(AttributeError)\n",
    "        if mesh.geometry().dim() == 1:\n",
    "            plt.plot(mesh.geometry().x(), obj.vector().array())\n",
    "        elif obj.vector().size() == mesh.num_cells():\n",
    "            C = obj.vector().array()\n",
    "            plt.tripcolor(mesh2triang(mesh), C)\n",
    "        else:\n",
    "            C = obj.compute_vertex_values(mesh)\n",
    "            plt.tripcolor(mesh2triang(mesh), C, shading='gouraud')\n",
    "    elif isinstance(obj, d.Mesh):\n",
    "        if (obj.geometry().dim() != 2):\n",
    "            raise(AttributeError)\n",
    "        plt.triplot(mesh2triang(obj), color='k')\n"
   ]
  },
  {
   "cell_type": "code",
   "execution_count": 13,
   "metadata": {
    "collapsed": false
   },
   "outputs": [
    {
     "name": "stderr",
     "output_type": "stream",
     "text": [
      "DEBUG:FFC:Reusing form from cache.\n"
     ]
    }
   ],
   "source": [
    "mesh = d.UnitIntervalMesh(1000)\n",
    "F = d.FunctionSpace(mesh, 'Lagrange', 1)\n",
    "u = d.TrialFunction(F)\n",
    "v = d.TestFunction(F)\n",
    "\n",
    "kappa = d.Expression('exp(sin(2*pi*x[0]))')\n",
    "a = -d.inner(kappa*d.nabla_grad(u), d.nabla_grad(v))*d.dx\n",
    "L = d.Expression('sin(2*pi*x[0])')*v*d.dx\n",
    "\n",
    "def on_boundary(x, on_boundary):\n",
    "    return (d.near(x[0], 1) or d.near(x[0], 0)) and on_boundary\n",
    "bc = d.DirichletBC(F, d.Constant(0.), on_boundary)"
   ]
  },
  {
   "cell_type": "code",
   "execution_count": 14,
   "metadata": {
    "collapsed": false
   },
   "outputs": [
    {
     "name": "stderr",
     "output_type": "stream",
     "text": [
      "DEBUG:FFC:Reusing form from cache.\n",
      "DEBUG:FFC:Reusing form from cache.\n"
     ]
    }
   ],
   "source": [
    "u_sol = d.Function(F)\n",
    "d.solve(a == L, u_sol, bc)"
   ]
  },
  {
   "cell_type": "code",
   "execution_count": 15,
   "metadata": {
    "collapsed": false
   },
   "outputs": [
    {
     "data": {
      "image/png": "[encoded data removed]",
      "text/plain": [
       "<matplotlib.figure.Figure at 0x7fb1438862d0>"
      ]
     },
     "metadata": {},
     "output_type": "display_data"
    }
   ],
   "source": [
    "plt.figure(figsize=(10,5))\n",
    "plot(u_sol)"
   ]
  },
  {
   "cell_type": "code",
   "execution_count": 16,
   "metadata": {
    "collapsed": false
   },
   "outputs": [],
   "source": [
    "data_points = np.linspace(0,1,11)[1:-1]\n",
    "data_vals = np.vectorize(u_sol)(data_points)"
   ]
  },
  {
   "cell_type": "code",
   "execution_count": 17,
   "metadata": {
    "collapsed": true
   },
   "outputs": [],
   "source": [
    "np.savetxt('data_simple', np.c_[data_points, data_vals])"
   ]
  }
 ],
 "metadata": {
  "kernelspec": {
   "display_name": "Python 2",
   "language": "python",
   "name": "python2"
  },
  "language_info": {
   "codemirror_mode": {
    "name": "ipython",
    "version": 2
   },
   "file_extension": ".py",
   "mimetype": "text/x-python",
   "name": "python",
   "nbconvert_exporter": "python",
   "pygments_lexer": "ipython2",
   "version": "2.7.6"
  }
 },
 "nbformat": 4,
 "nbformat_minor": 0
}
