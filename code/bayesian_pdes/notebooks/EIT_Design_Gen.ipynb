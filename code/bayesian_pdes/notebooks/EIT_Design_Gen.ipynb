{
 "cells": [
  {
   "cell_type": "code",
   "execution_count": 27,
   "metadata": {
    "collapsed": false,
    "deletable": true,
    "editable": true
   },
   "outputs": [],
   "source": [
    "from autograd import numpy as np\n",
    "import autograd\n",
    "import eit\n",
    "from eit import pol2cart, cart2pol\n",
    "import bayesian_design as bd\n",
    "import matplotlib.pyplot as plt\n",
    "import itertools\n",
    "import GPyOpt\n",
    "from scipy.optimize import minimize_scalar, minimize\n",
    "%matplotlib inline"
   ]
  },
  {
   "cell_type": "code",
   "execution_count": 28,
   "metadata": {
    "collapsed": true,
    "deletable": true,
    "editable": true
   },
   "outputs": [],
   "source": [
    "n_rings = 2\n",
    "scale = 1000\n",
    "kernel_variance_mult = 1.0\n",
    "greedy_ls = 0.3\n",
    "\n",
    "likelihood_variance = 6.0\n",
    "\n",
    "random_start=True"
   ]
  },
  {
   "cell_type": "code",
   "execution_count": 29,
   "metadata": {
    "collapsed": false,
    "deletable": true,
    "editable": true
   },
   "outputs": [],
   "source": [
    "# load in observational data\n",
    "\n",
    "voltage_file = np.loadtxt('dummy_data/voltages.txt')\n",
    "current_file = np.loadtxt('dummy_data/currents.txt')\n",
    "%run -i dummy_data/function.py\n",
    "\n",
    "currents = np.empty((31, 32))\n",
    "voltages = np.empty((31, 32))\n",
    "amps = voltage_file[0]\n",
    "for i in range(len(current_file) / 32):\n",
    "    this_currents = current_file[32*i:32*(i+1)]\n",
    "    this_voltages = voltage_file[32*i+1:32*(i+1)+1]\n",
    "    currents[i] = this_currents\n",
    "    voltages[i] = this_voltages"
   ]
  },
  {
   "cell_type": "code",
   "execution_count": 30,
   "metadata": {
    "collapsed": false,
    "deletable": true,
    "editable": true
   },
   "outputs": [],
   "source": [
    "# code for setting up the stim pattern\n",
    "stim_pattern = currents*scale*amps\n",
    "meas_pattern = np.eye(32)\n",
    "pattern = eit.grids.EITPattern(meas_pattern, stim_pattern)\n",
    "data = voltages"
   ]
  },
  {
   "cell_type": "code",
   "execution_count": 54,
   "metadata": {
    "collapsed": true,
    "deletable": true,
    "editable": true
   },
   "outputs": [],
   "source": [
    "def get_theta(design, sensors):\n",
    "    # assuming constant theta\n",
    "    theta_int = field_fun(design[:,0], design[:,1], centers, width)\n",
    "    theta_int_x = field_fun_x(design[:,0], design[:,1], centers, width)\n",
    "    theta_int_y = field_fun_y(design[:,0], design[:,1], centers, width)\n",
    "    theta_bdy = field_fun(sensors[:,0], sensors[:,1], centers, width)\n",
    "    \n",
    "    theta_design = np.c_[theta_int, theta_int_x, theta_int_y]\n",
    "    theta_sens = np.c_[theta_bdy, np.zeros((len(sensors), 2))]\n",
    "    return theta_design, theta_sens"
   ]
  },
  {
   "cell_type": "code",
   "execution_count": 55,
   "metadata": {
    "collapsed": false,
    "deletable": true,
    "editable": true
   },
   "outputs": [],
   "source": [
    "def get_cov(test_points, design_points, sensors, theta, fun_args):\n",
    "    kappa_design, kappa_sens = get_theta(design_points, sensors)\n",
    "    \n",
    "    test_points_aug = np.c_[test_points, np.zeros((len(test_points), 3))]\n",
    "    design_points_aug = np.c_[design_points, kappa_design]\n",
    "    sensors_aug = np.c_[sensors, kappa_sens]\n",
    "    \n",
    "    _, cov = eit.collocate.collocate_no_obs(np.asfortranarray(test_points_aug), \n",
    "                                            np.asfortranarray(design_points_aug), \n",
    "                                            np.asfortranarray(sensors_aug), \n",
    "                                            np.asfortranarray(fun_args))\n",
    "    return cov"
   ]
  },
  {
   "cell_type": "code",
   "execution_count": 65,
   "metadata": {
    "collapsed": true,
    "deletable": true,
    "editable": true
   },
   "outputs": [],
   "source": [
    "def get_cov_points(points, fun_args):\n",
    "    return get_cov(ref_grid, points, sensors, theta_0, fun_args)"
   ]
  },
  {
   "cell_type": "code",
   "execution_count": 57,
   "metadata": {
    "collapsed": false,
    "deletable": true,
    "editable": true
   },
   "outputs": [],
   "source": [
    "attempts = 5\n",
    "def construct_initial_greedy(loss, n_pts):\n",
    "    constraints = [\n",
    "        {'type': 'ineq', 'fun': lambda x: 1. - x[0]**2 - x[1]**2 }\n",
    "    ]\n",
    "    design = np.empty((0, 2))\n",
    "    greedy_fa = np.array([greedy_ls, kernel_variance_mult])\n",
    "    for i in xrange(n_pts):\n",
    "        print i,\n",
    "        x0 = np.random.uniform(-1, 1, size=2)\n",
    "        while x0[0]**2 + x0[1]**2 > 1:\n",
    "            x0 = np.random.uniform(-1, 1, size=2)\n",
    "        def __partial_loss__(x):\n",
    "            new_design = np.row_stack([design, x])\n",
    "            return loss(new_design, greedy_fa)\n",
    "        attempt = 0\n",
    "        while attempt < attempts:\n",
    "            try:\n",
    "                res = minimize(__partial_loss__, x0, constraints=constraints)\n",
    "                success = res.success\n",
    "            except:\n",
    "                success = False\n",
    "            if not success:\n",
    "                attempt = attempt + 1\n",
    "                continue\n",
    "            else:\n",
    "                break\n",
    "        if attempt == attempts:\n",
    "            raise Exception('Could not find a solution after {} attempts'.format(attempts))\n",
    "        design = np.row_stack([design, res.x])\n",
    "    return design"
   ]
  },
  {
   "cell_type": "code",
   "execution_count": 58,
   "metadata": {
    "collapsed": true,
    "deletable": true,
    "editable": true
   },
   "outputs": [],
   "source": [
    "def construct_initial_ring(n_radii, n_bdy):\n",
    "    return eit.grids.construct_circular(n_radii, n_bdy, 32).interior_plus_boundary"
   ]
  },
  {
   "cell_type": "code",
   "execution_count": 73,
   "metadata": {
    "collapsed": false,
    "deletable": true,
    "editable": true
   },
   "outputs": [],
   "source": [
    "ref_grid = eit.grids.construct_circular(5, 64, 32).all\n",
    "#ref_grid = np.copy(pol2cart(np.c_[np.ones(32), np.linspace(-np.pi, np.pi, 33)[:-1]]))"
   ]
  },
  {
   "cell_type": "code",
   "execution_count": 66,
   "metadata": {
    "collapsed": true,
    "deletable": true,
    "editable": true
   },
   "outputs": [],
   "source": [
    "max_opt_iter = 10\n",
    "def run_optimizer(function, cur_point, domain, return_opt=False, debug=False):\n",
    "    space = [{'name': 'x', 'type': 'continuous', 'domain': domain}]\n",
    "    opt = GPyOpt.methods.BayesianOptimization(function, space, exact_feval=True)\n",
    "    opt.run_optimization(max_opt_iter, verbosity=debug)\n",
    "    if debug > 2:\n",
    "        import matplotlib.pyplot as plt\n",
    "        opt.plot_convergence()\n",
    "        plt.scatter(opt.x_opt[0], opt.x_opt[1], c='green')\n",
    "        plt.scatter(cur_point[0], cur_point[1], c='red')\n",
    "        plt.scatter(other_points[:,0], other_points[:, 1], c='black')\n",
    "\n",
    "        plt.show()\n",
    "        plt.close()\n",
    "    if not return_opt:\n",
    "        return opt.x_opt\n",
    "    return opt"
   ]
  },
  {
   "cell_type": "code",
   "execution_count": 67,
   "metadata": {
    "collapsed": true,
    "deletable": true,
    "editable": true
   },
   "outputs": [],
   "source": [
    "max_opt_iter = 10\n",
    "def run_optimizer_standard(function, cur_point, domain, debug=False):\n",
    "    return minimize_scalar(function, method='bounded', bounds=domain).x"
   ]
  },
  {
   "cell_type": "code",
   "execution_count": 68,
   "metadata": {
    "collapsed": true,
    "deletable": true,
    "editable": true
   },
   "outputs": [],
   "source": [
    "def run_optimizer_2d(f, cur_point, debug=False):\n",
    "    constraints = [\n",
    "        {'type': 'ineq', 'fun': lambda x: 1. - x[0]**2 - x[1]**2 }\n",
    "    ]\n",
    "    if random_start:\n",
    "        initial_point = np.random.uniform(-1, 1, size=(1, 2))\n",
    "        while initial_point[0, 0]**2 + initial_point[0, 1]**2 > 1.:\n",
    "            initial_point = np.random.uniform(-1, 1, size=(1, 2))\n",
    "    else:\n",
    "        initial_point = cur_point\n",
    "    res = minimize(f, initial_point, constraints=constraints)\n",
    "    if not res.success:\n",
    "        return cur_point\n",
    "    return res.x"
   ]
  },
  {
   "cell_type": "code",
   "execution_count": 69,
   "metadata": {
    "collapsed": true,
    "deletable": true,
    "editable": true
   },
   "outputs": [],
   "source": [
    "def optimize_ls(design):\n",
    "    grid = eit.grids.EITGrid(design, np.empty((0, 2)), sensors)\n",
    "    kappa_0_int, kappa_0_sens = get_theta(design, sensors)\n",
    "    kappa_0 = np.concatenate([kappa_0_int[:, 0], kappa_0_sens[:,0], kappa_0_int[:,1], kappa_0_int[:,2]])\n",
    "    dot_mat = np.eye(len(kappa_0))\n",
    "    \n",
    "    def __phi_ls__(ls):\n",
    "        fa = np.array([ls, kernel_variance_mult])\n",
    "        return eit.pcn_kernel.phi_c(grid, kappa_0, likelihood_variance, pattern, data, fa, dot_mat)\n",
    "    return minimize_scalar(__phi_ls__, method='bounded', bounds=(0,1)).x"
   ]
  },
  {
   "cell_type": "code",
   "execution_count": 70,
   "metadata": {
    "collapsed": false,
    "deletable": true,
    "editable": true
   },
   "outputs": [],
   "source": [
    "def coordinate_exchange(initial_design, k, loss_fn, max_iter, debug=False):\n",
    "    cur_design = np.copy(initial_design)\n",
    "    for iteration in xrange(max_iter):\n",
    "        #length_scale = optimize_ls(cur_design)\n",
    "        length_scale = 0.3\n",
    "        fun_args = np.array([length_scale, kernel_variance_mult])\n",
    "        accepts = 0\n",
    "        moves = initial_design.shape[0]*2\n",
    "        \n",
    "        loss_deltas = bd.design_optimizers.deletion(cur_design, loss_fn, [fun_args])\n",
    "        points_to_modify = np.argsort(loss_deltas)[:k]\n",
    "        \n",
    "        for row in points_to_modify:\n",
    "            new_design = np.copy(cur_design)\n",
    "            cur_point = cur_design[row][None, :]\n",
    "            cur_loss = loss_fn(cur_design, fun_args)\n",
    "            def __partial_loss__(p):\n",
    "                new_design[row] = p\n",
    "                ret = loss_fn(new_design, fun_args)\n",
    "                return np.asscalar(ret)\n",
    "            def __partial_loss_vectorized__(points):\n",
    "                ret = np.empty((len(points), 1))\n",
    "                for i in xrange(len(points)):\n",
    "                    ret[i] = __partial_loss__(points[i])\n",
    "                return ret\n",
    "            \n",
    "            # work out domain\n",
    "            attempts = 5\n",
    "            for i in xrange(attempts):\n",
    "                try:\n",
    "                    new_point = run_optimizer_2d(__partial_loss__, cur_point)\n",
    "                except Exception as ex:\n",
    "                    if i + 1 < attempts:\n",
    "                        continue\n",
    "                    else:\n",
    "                        print ex\n",
    "                        raise\n",
    "                break\n",
    "            new_design[row] = new_point\n",
    "            new_loss = loss_fn(new_design, fun_args)\n",
    "\n",
    "            if new_loss < cur_loss:\n",
    "                cur_design = new_design\n",
    "                accepts += 1\n",
    "                if debug: print 'Moved ({},{}) from {} to {}, loss'.format(row, col, cur_point, new_point, new_loss)\n",
    "            else:\n",
    "                if debug: print 'Rejected move'\n",
    "        if accepts == 0:\n",
    "            break\n",
    "        print 'Iteration {} Accepted {}/{} with length_scale {}'.format(iteration, accepts, k, length_scale)\n",
    "    return cur_design"
   ]
  },
  {
   "cell_type": "code",
   "execution_count": 42,
   "metadata": {
    "collapsed": true,
    "deletable": true,
    "editable": true
   },
   "outputs": [],
   "source": [
    "# TODO:\n",
    "# Estimate the length-scale for the forward model (at each iter!)\n",
    "# Switch to co-ordinate exchange?"
   ]
  },
  {
   "cell_type": "code",
   "execution_count": 71,
   "metadata": {
    "collapsed": false,
    "deletable": true,
    "editable": true
   },
   "outputs": [
    {
     "name": "stdout",
     "output_type": "stream",
     "text": [
      "\n",
      "3.28358311982\n"
     ]
    },
    {
     "data": {
      "image/png": "[encoded data removed]",
      "text/plain": [
       "<matplotlib.figure.Figure at 0x116053c10>"
      ]
     },
     "metadata": {},
     "output_type": "display_data"
    }
   ],
   "source": [
    "theta_0 = 0.\n",
    "loss = bd.log_optimality(bd.a_optimality(get_cov_points))\n",
    "\n",
    "#initial_design = construct_initial_greedy(loss, n_pts)\n",
    "initial_design = construct_initial_ring(n_rings, 64)\n",
    "print\n",
    "plt.scatter(initial_design[:,0], initial_design[:,1], marker='x')\n",
    "plt.gca().set_aspect('equal')\n",
    "print loss(initial_design, np.array([greedy_ls, kernel_variance_mult]))"
   ]
  },
  {
   "cell_type": "code",
   "execution_count": 74,
   "metadata": {
    "collapsed": false,
    "deletable": true,
    "editable": true,
    "scrolled": false
   },
   "outputs": [
    {
     "name": "stdout",
     "output_type": "stream",
     "text": [
      "Iteration 0 Accepted 7/20 with length_scale 0.3\n",
      "Iteration 1 Accepted 8/20 with length_scale 0.3\n",
      "Iteration 2 Accepted 9/20 with length_scale 0.3\n",
      "Iteration 3 Accepted 7/20 with length_scale 0.3\n",
      "Iteration 4 Accepted 2/20 with length_scale 0.3\n",
      "-529.423578776\n"
     ]
    }
   ],
   "source": [
    "new_design = coordinate_exchange(initial_design, 20, loss, 50, False)\n",
    "print loss(new_design, optimize_ls(new_design))"
   ]
  },
  {
   "cell_type": "raw",
   "metadata": {
    "collapsed": false,
    "deletable": true,
    "editable": true,
    "scrolled": false
   },
   "source": [
    "space =[{'name': 'x', 'type': 'continuous', 'domain': (-1,1)},\n",
    "        {'name': 'y', 'type': 'continuous', 'domain': (-1, 1)}]\n",
    "constraints = [{'name': 'circle', 'constrain': 'x[:,0]**2 + x[:,1]**2 - 1'}]\n",
    "\n",
    "optimizer = bd.optimizers.gpyopt_optimizer(space, constraints)\n",
    "\n",
    "\n",
    "new_design = bd.ace(initial_design, \n",
    "                    5, \n",
    "                    50, \n",
    "                    loss, \n",
    "                    optimizer,\n",
    "                    debug=1,\n",
    "                    halt_on_error=False,\n",
    "                    args=[np.array([optimize_ls(initial_design), kernel_variance_mult])]\n",
    "                   )"
   ]
  },
  {
   "cell_type": "code",
   "execution_count": 75,
   "metadata": {
    "collapsed": false,
    "deletable": true,
    "editable": true,
    "scrolled": false
   },
   "outputs": [
    {
     "data": {
      "image/png": "[encoded data removed]",
      "text/plain": [
       "<matplotlib.figure.Figure at 0x115863190>"
      ]
     },
     "metadata": {},
     "output_type": "display_data"
    }
   ],
   "source": [
    "\n",
    "plt.figure(figsize=(12,6))\n",
    "plt.subplot(121)\n",
    "plt.scatter(initial_design[:,0], initial_design[:,1], marker='x')\n",
    "plt.scatter(sensors[:,0], sensors[:,1], marker='o', s=5)\n",
    "plt.gca().set_aspect('equal')\n",
    "plt.subplot(122)\n",
    "plt.scatter(new_design[:,0], new_design[:,1], marker='x')\n",
    "plt.scatter(sensors[:,0], sensors[:,1], marker='o', s=5)\n",
    "plt.gca().set_aspect('equal')"
   ]
  },
  {
   "cell_type": "code",
   "execution_count": 46,
   "metadata": {
    "collapsed": false,
    "deletable": true,
    "editable": true
   },
   "outputs": [],
   "source": [
    "np.save('eit_designs/optimized_n={}.npy'.format(len(new_design)), new_design)\n",
    "np.save('eit_designs/initial_n={}.npy'.format(len(new_design)), initial_design)"
   ]
  },
  {
   "cell_type": "code",
   "execution_count": 47,
   "metadata": {
    "collapsed": false
   },
   "outputs": [
    {
     "name": "stdout",
     "output_type": "stream",
     "text": [
      "127\n"
     ]
    }
   ],
   "source": [
    "print len(new_design)"
   ]
  }
 ],
 "metadata": {
  "kernelspec": {
   "display_name": "Python 2",
   "language": "python",
   "name": "python2"
  },
  "language_info": {
   "codemirror_mode": {
    "name": "ipython",
    "version": 2
   },
   "file_extension": ".py",
   "mimetype": "text/x-python",
   "name": "python",
   "nbconvert_exporter": "python",
   "pygments_lexer": "ipython2",
   "version": "2.7.13"
  }
 },
 "nbformat": 4,
 "nbformat_minor": 2
}
